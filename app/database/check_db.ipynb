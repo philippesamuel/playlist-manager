{
 "cells": [
  {
   "cell_type": "code",
   "execution_count": 1,
   "metadata": {},
   "outputs": [
    {
     "name": "stdout",
     "output_type": "stream",
     "text": [
      "c:\\Users\\phili\\Documents\\code\\spotify-playlist\n"
     ]
    },
    {
     "name": "stderr",
     "output_type": "stream",
     "text": [
      "c:\\Users\\phili\\Documents\\code\\spotify-playlist\\.venv\\Lib\\site-packages\\IPython\\core\\magics\\osm.py:417: UserWarning: This is now an optional IPython functionality, setting dhist requires you to install the `pickleshare` library.\n",
      "  self.shell.db['dhist'] = compress_dhist(dhist)[-100:]\n"
     ]
    }
   ],
   "source": [
    "cd .."
   ]
  },
  {
   "cell_type": "code",
   "execution_count": 2,
   "metadata": {},
   "outputs": [],
   "source": [
    "from db.db import insert_song, insert_artist, insert_spotify_track_by_song_id, get_song, get_artist"
   ]
  },
  {
   "cell_type": "code",
   "execution_count": 3,
   "metadata": {},
   "outputs": [],
   "source": [
    "%load_ext magic_duckdb"
   ]
  },
  {
   "cell_type": "code",
   "execution_count": 4,
   "metadata": {},
   "outputs": [],
   "source": [
    "%dql -cn db/duck.db "
   ]
  },
  {
   "cell_type": "code",
   "execution_count": 14,
   "metadata": {},
   "outputs": [],
   "source": [
    "%dql --close"
   ]
  },
  {
   "cell_type": "code",
   "execution_count": 5,
   "metadata": {},
   "outputs": [
    {
     "data": {
      "text/html": [
       "<div>\n",
       "<style scoped>\n",
       "    .dataframe tbody tr th:only-of-type {\n",
       "        vertical-align: middle;\n",
       "    }\n",
       "\n",
       "    .dataframe tbody tr th {\n",
       "        vertical-align: top;\n",
       "    }\n",
       "\n",
       "    .dataframe thead th {\n",
       "        text-align: right;\n",
       "    }\n",
       "</style>\n",
       "<table border=\"1\" class=\"dataframe\">\n",
       "  <thead>\n",
       "    <tr style=\"text-align: right;\">\n",
       "      <th></th>\n",
       "      <th>id</th>\n",
       "      <th>name</th>\n",
       "      <th>artists</th>\n",
       "    </tr>\n",
       "  </thead>\n",
       "  <tbody>\n",
       "    <tr>\n",
       "      <th>0</th>\n",
       "      <td>1</td>\n",
       "      <td>10000 Reasons</td>\n",
       "      <td>[Jonas Myrin, Matt Redman]</td>\n",
       "    </tr>\n",
       "    <tr>\n",
       "      <th>1</th>\n",
       "      <td>2</td>\n",
       "      <td>Agnus Dei</td>\n",
       "      <td>[Michael W. Smith]</td>\n",
       "    </tr>\n",
       "    <tr>\n",
       "      <th>2</th>\n",
       "      <td>3</td>\n",
       "      <td>Almighty</td>\n",
       "      <td>[Anna Brading, Jotham Oakley, Simon Brading]</td>\n",
       "    </tr>\n",
       "    <tr>\n",
       "      <th>3</th>\n",
       "      <td>4</td>\n",
       "      <td>Alpha and Omega</td>\n",
       "      <td>[Erasmus Mutanbira]</td>\n",
       "    </tr>\n",
       "    <tr>\n",
       "      <th>4</th>\n",
       "      <td>5</td>\n",
       "      <td>Amazing Grace/My chains are gone</td>\n",
       "      <td>[Chris Tomlin]</td>\n",
       "    </tr>\n",
       "    <tr>\n",
       "      <th>...</th>\n",
       "      <td>...</td>\n",
       "      <td>...</td>\n",
       "      <td>...</td>\n",
       "    </tr>\n",
       "    <tr>\n",
       "      <th>198</th>\n",
       "      <td>199</td>\n",
       "      <td>Yet Not I But Through Christ In Me</td>\n",
       "      <td>[Jonny Robinson, Michael Farren, Rich Thompson]</td>\n",
       "    </tr>\n",
       "    <tr>\n",
       "      <th>199</th>\n",
       "      <td>200</td>\n",
       "      <td>You Are Good</td>\n",
       "      <td>[Israel Houghton]</td>\n",
       "    </tr>\n",
       "    <tr>\n",
       "      <th>200</th>\n",
       "      <td>201</td>\n",
       "      <td>You Deserve It All</td>\n",
       "      <td>[Josh Baldwin, Joe Volk, Bobby Strand, Kalley...]</td>\n",
       "    </tr>\n",
       "    <tr>\n",
       "      <th>201</th>\n",
       "      <td>202</td>\n",
       "      <td>You're Worthy of My Praise</td>\n",
       "      <td>[David Ruis]</td>\n",
       "    </tr>\n",
       "    <tr>\n",
       "      <th>202</th>\n",
       "      <td>203</td>\n",
       "      <td>Zehntausend Gründe</td>\n",
       "      <td>[David Hanheiser, David Schnitter, Jonas Myrin...</td>\n",
       "    </tr>\n",
       "  </tbody>\n",
       "</table>\n",
       "<p>203 rows × 3 columns</p>\n",
       "</div>"
      ],
      "text/plain": [
       "      id                                name  \\\n",
       "0      1                       10000 Reasons   \n",
       "1      2                           Agnus Dei   \n",
       "2      3                            Almighty   \n",
       "3      4                     Alpha and Omega   \n",
       "4      5    Amazing Grace/My chains are gone   \n",
       "..   ...                                 ...   \n",
       "198  199  Yet Not I But Through Christ In Me   \n",
       "199  200                        You Are Good   \n",
       "200  201                  You Deserve It All   \n",
       "201  202          You're Worthy of My Praise   \n",
       "202  203                  Zehntausend Gründe   \n",
       "\n",
       "                                               artists  \n",
       "0                           [Jonas Myrin, Matt Redman]  \n",
       "1                                   [Michael W. Smith]  \n",
       "2         [Anna Brading, Jotham Oakley, Simon Brading]  \n",
       "3                                  [Erasmus Mutanbira]  \n",
       "4                                       [Chris Tomlin]  \n",
       "..                                                 ...  \n",
       "198    [Jonny Robinson, Michael Farren, Rich Thompson]  \n",
       "199                                  [Israel Houghton]  \n",
       "200  [Josh Baldwin, Joe Volk, Bobby Strand, Kalley...]  \n",
       "201                                       [David Ruis]  \n",
       "202  [David Hanheiser, David Schnitter, Jonas Myrin...  \n",
       "\n",
       "[203 rows x 3 columns]"
      ]
     },
     "execution_count": 5,
     "metadata": {},
     "output_type": "execute_result"
    }
   ],
   "source": [
    "songs_df = %dql SELECT * FROM songs\n",
    "songs_df"
   ]
  },
  {
   "cell_type": "code",
   "execution_count": 8,
   "metadata": {},
   "outputs": [
    {
     "data": {
      "text/html": [
       "<div>\n",
       "<style scoped>\n",
       "    .dataframe tbody tr th:only-of-type {\n",
       "        vertical-align: middle;\n",
       "    }\n",
       "\n",
       "    .dataframe tbody tr th {\n",
       "        vertical-align: top;\n",
       "    }\n",
       "\n",
       "    .dataframe thead th {\n",
       "        text-align: right;\n",
       "    }\n",
       "</style>\n",
       "<table border=\"1\" class=\"dataframe\">\n",
       "  <thead>\n",
       "    <tr style=\"text-align: right;\">\n",
       "      <th></th>\n",
       "      <th>Count</th>\n",
       "    </tr>\n",
       "  </thead>\n",
       "  <tbody>\n",
       "    <tr>\n",
       "      <th>0</th>\n",
       "      <td>203</td>\n",
       "    </tr>\n",
       "  </tbody>\n",
       "</table>\n",
       "</div>"
      ],
      "text/plain": [
       "   Count\n",
       "0    203"
      ]
     },
     "execution_count": 8,
     "metadata": {},
     "output_type": "execute_result"
    }
   ],
   "source": [
    "%dql UPDATE songs SET name = REPLACE(name, ' (Ü)', '')"
   ]
  },
  {
   "cell_type": "code",
   "execution_count": 6,
   "metadata": {},
   "outputs": [],
   "source": [
    "songs_iter = songs_df.itertuples()"
   ]
  },
  {
   "cell_type": "code",
   "execution_count": null,
   "metadata": {},
   "outputs": [],
   "source": []
  },
  {
   "cell_type": "code",
   "execution_count": 29,
   "metadata": {},
   "outputs": [
    {
     "name": "stdout",
     "output_type": "stream",
     "text": [
      "16: Cornerstone by ['Edward Mote' 'Eric Liljero' 'Jonas Myrin' 'Reuben ...']\n",
      "[('Edward', 'Mote'), ('Eric', 'Liljero'), ('Jonas', 'Myrin'), ('Reuben', '...')]\n"
     ]
    }
   ],
   "source": [
    "_, id, song_name, artists = next(songs_iter)\n",
    "\n",
    "print(f\"{id}: {song_name} by {artists}\")\n",
    "artists_names = (a.strip().split() for a in artists)\n",
    "artists_names = [(a[0], a[-1]) for a in artists_names if len(a) >= 2]\n",
    "print(artists_names)\n",
    "\n",
    "insert_song(song_name, artists_names)\n",
    "\n",
    "# ui_insert = input(\"Insert song? (y/n)\")\n",
    "# if ui_insert.lower() == 'y':\n",
    "#     insert_song(song_name, artists_names)\n"
   ]
  },
  {
   "cell_type": "code",
   "execution_count": 28,
   "metadata": {},
   "outputs": [
    {
     "name": "stdout",
     "output_type": "stream",
     "text": [
      "2024-05-13 00:54:43,577 INFO sqlalchemy.engine.Engine BEGIN (implicit)\n",
      "2024-05-13 00:54:43,580 INFO sqlalchemy.engine.Engine SELECT song.id, song.name, song.ccli_number \n",
      "FROM song \n",
      "WHERE song.name = ?\n",
      "2024-05-13 00:54:43,583 INFO sqlalchemy.engine.Engine [cached since 287.6s ago] ('Christ Is Enough',)\n",
      "2024-05-13 00:54:43,585 INFO sqlalchemy.engine.Engine ROLLBACK\n"
     ]
    },
    {
     "name": "stderr",
     "output_type": "stream",
     "text": [
      "\u001b[32m2024-05-13 00:54:43.586\u001b[0m | \u001b[1mINFO    \u001b[0m | \u001b[36mdb.db\u001b[0m:\u001b[36minsert_song\u001b[0m:\u001b[36m62\u001b[0m - \u001b[1mSong Christ Is Enough already exists in the database\u001b[0m\n"
     ]
    }
   ],
   "source": [
    "insert_song(song_name, artists_names)"
   ]
  },
  {
   "cell_type": "code",
   "execution_count": 23,
   "metadata": {},
   "outputs": [
    {
     "name": "stdout",
     "output_type": "stream",
     "text": [
      "Build My Life\n",
      "[('Brett', 'Younker'), ('Karl', 'Martin'), ('Kirby', 'Kaple'), ('Matt', 'Redman'), ('Patt', 'Barrett')]\n",
      "2024-05-13 00:53:36,744 INFO sqlalchemy.engine.Engine BEGIN (implicit)\n",
      "2024-05-13 00:53:36,745 INFO sqlalchemy.engine.Engine SELECT song.id, song.name, song.ccli_number \n",
      "FROM song \n",
      "WHERE song.name = ?\n",
      "2024-05-13 00:53:36,746 INFO sqlalchemy.engine.Engine [cached since 220.8s ago] ('Build My Life',)\n",
      "2024-05-13 00:53:36,746 INFO sqlalchemy.engine.Engine ROLLBACK\n",
      "2024-05-13 00:53:36,750 INFO sqlalchemy.engine.Engine BEGIN (implicit)\n",
      "2024-05-13 00:53:36,751 INFO sqlalchemy.engine.Engine SELECT artist.id, artist.first_name, artist.last_name \n",
      "FROM artist \n",
      "WHERE artist.first_name = ? AND artist.last_name = ?\n",
      "2024-05-13 00:53:36,752 INFO sqlalchemy.engine.Engine [cached since 220.8s ago] ('Brett', 'Younker')\n",
      "2024-05-13 00:53:36,754 INFO sqlalchemy.engine.Engine ROLLBACK\n",
      "2024-05-13 00:53:36,755 INFO sqlalchemy.engine.Engine BEGIN (implicit)\n",
      "2024-05-13 00:53:36,757 INFO sqlalchemy.engine.Engine SELECT artist.id, artist.first_name, artist.last_name \n",
      "FROM artist \n",
      "WHERE artist.first_name = ? AND artist.last_name = ?\n",
      "2024-05-13 00:53:36,758 INFO sqlalchemy.engine.Engine [cached since 220.8s ago] ('Karl', 'Martin')\n",
      "2024-05-13 00:53:36,759 INFO sqlalchemy.engine.Engine ROLLBACK\n",
      "2024-05-13 00:53:36,761 INFO sqlalchemy.engine.Engine BEGIN (implicit)\n",
      "2024-05-13 00:53:36,762 INFO sqlalchemy.engine.Engine SELECT artist.id, artist.first_name, artist.last_name \n",
      "FROM artist \n",
      "WHERE artist.first_name = ? AND artist.last_name = ?\n",
      "2024-05-13 00:53:36,764 INFO sqlalchemy.engine.Engine [cached since 220.8s ago] ('Kirby', 'Kaple')\n",
      "2024-05-13 00:53:36,765 INFO sqlalchemy.engine.Engine ROLLBACK\n",
      "2024-05-13 00:53:36,766 INFO sqlalchemy.engine.Engine BEGIN (implicit)\n",
      "2024-05-13 00:53:36,767 INFO sqlalchemy.engine.Engine SELECT artist.id, artist.first_name, artist.last_name \n",
      "FROM artist \n",
      "WHERE artist.first_name = ? AND artist.last_name = ?\n",
      "2024-05-13 00:53:36,768 INFO sqlalchemy.engine.Engine [cached since 220.8s ago] ('Matt', 'Redman')\n",
      "2024-05-13 00:53:36,770 INFO sqlalchemy.engine.Engine ROLLBACK\n",
      "2024-05-13 00:53:36,770 INFO sqlalchemy.engine.Engine BEGIN (implicit)\n",
      "2024-05-13 00:53:36,770 INFO sqlalchemy.engine.Engine SELECT artist.id, artist.first_name, artist.last_name \n",
      "FROM artist \n",
      "WHERE artist.first_name = ? AND artist.last_name = ?\n",
      "2024-05-13 00:53:36,770 INFO sqlalchemy.engine.Engine [cached since 220.8s ago] ('Patt', 'Barrett')\n",
      "2024-05-13 00:53:36,770 INFO sqlalchemy.engine.Engine ROLLBACK\n",
      "2024-05-13 00:53:36,778 INFO sqlalchemy.engine.Engine BEGIN (implicit)\n",
      "2024-05-13 00:53:36,780 INFO sqlalchemy.engine.Engine INSERT INTO artist (first_name, last_name) VALUES (?, ?) RETURNING id\n",
      "2024-05-13 00:53:36,781 INFO sqlalchemy.engine.Engine [generated in 0.00017s (insertmanyvalues) 1/4 (ordered; batch not supported)] ('Brett', 'Younker')\n",
      "2024-05-13 00:53:36,784 INFO sqlalchemy.engine.Engine INSERT INTO artist (first_name, last_name) VALUES (?, ?) RETURNING id\n",
      "2024-05-13 00:53:36,785 INFO sqlalchemy.engine.Engine [insertmanyvalues 2/4 (ordered; batch not supported)] ('Karl', 'Martin')\n",
      "2024-05-13 00:53:36,786 INFO sqlalchemy.engine.Engine INSERT INTO artist (first_name, last_name) VALUES (?, ?) RETURNING id\n",
      "2024-05-13 00:53:36,787 INFO sqlalchemy.engine.Engine [insertmanyvalues 3/4 (ordered; batch not supported)] ('Kirby', 'Kaple')\n",
      "2024-05-13 00:53:36,788 INFO sqlalchemy.engine.Engine INSERT INTO artist (first_name, last_name) VALUES (?, ?) RETURNING id\n",
      "2024-05-13 00:53:36,789 INFO sqlalchemy.engine.Engine [insertmanyvalues 4/4 (ordered; batch not supported)] ('Patt', 'Barrett')\n",
      "2024-05-13 00:53:36,790 INFO sqlalchemy.engine.Engine INSERT INTO song (name, ccli_number) VALUES (?, ?)\n",
      "2024-05-13 00:53:36,791 INFO sqlalchemy.engine.Engine [cached since 220.8s ago] ('Build My Life', None)\n",
      "2024-05-13 00:53:36,792 INFO sqlalchemy.engine.Engine INSERT INTO artistsonglink (artist_id, song_id) VALUES (?, ?)\n",
      "2024-05-13 00:53:36,794 INFO sqlalchemy.engine.Engine [cached since 220.8s ago] [(1, 13), (22, 13), (25, 13), (24, 13), (23, 13)]\n",
      "2024-05-13 00:53:36,794 INFO sqlalchemy.engine.Engine COMMIT\n"
     ]
    }
   ],
   "source": [
    "arts = [\"Mariah, McManus\", \"Mia, Fieldes\", \"Nam, Son Pham\"]\n",
    "arts = [\"Wolfgang, Zorn\", \"Thomas, Chisholm\", \"William, Runyan\"]\n",
    "arts = [\"Beth Redman\", \"Matt Redman\"]\n",
    "arts = [('Brett', 'Younker'), ('Karl', 'Martin'), ('Kirby', 'Kaple'), ('Matt', 'Redman'), ('Patt', 'Barrett')]\n",
    "# ans = [a.split(\" \") for a in arts]\n",
    "ans = arts\n",
    "print(song_name)\n",
    "print(ans)\n",
    "insert_song(song_name, ans)\n",
    "# for an in ans:\n",
    "    # insert_artist(*an)"
   ]
  },
  {
   "cell_type": "code",
   "execution_count": 18,
   "metadata": {},
   "outputs": [
    {
     "data": {
      "text/plain": [
       "['Jonas', 'Myrin']"
      ]
     },
     "execution_count": 18,
     "metadata": {},
     "output_type": "execute_result"
    }
   ],
   "source": []
  },
  {
   "cell_type": "code",
   "execution_count": 20,
   "metadata": {},
   "outputs": [
    {
     "ename": "StopIteration",
     "evalue": "",
     "output_type": "error",
     "traceback": [
      "\u001b[1;31m---------------------------------------------------------------------------\u001b[0m",
      "\u001b[1;31mStopIteration\u001b[0m                             Traceback (most recent call last)",
      "Cell \u001b[1;32mIn[20], line 1\u001b[0m\n\u001b[1;32m----> 1\u001b[0m \u001b[38;5;28;43mnext\u001b[39;49m\u001b[43m(\u001b[49m\u001b[43martists_names\u001b[49m\u001b[43m)\u001b[49m\n",
      "\u001b[1;31mStopIteration\u001b[0m: "
     ]
    }
   ],
   "source": [
    "next(artists_names)"
   ]
  },
  {
   "cell_type": "code",
   "execution_count": null,
   "metadata": {},
   "outputs": [],
   "source": [
    "from db import insert_spotify"
   ]
  },
  {
   "cell_type": "code",
   "execution_count": null,
   "metadata": {},
   "outputs": [],
   "source": [
    "# insert_spotify(song_id=1, spotify_id='0fxpHpK3aw2nFWII6yveDD')\n",
    "# insert_spotify(song_id=1, spotify_id='3DgwAwHOyxfpQUuuMzvzUN')\n",
    "insert_spotify(song_id=2, spotify_id='1N9SysNAP8j4wbAIHzlM9m')"
   ]
  },
  {
   "cell_type": "code",
   "execution_count": null,
   "metadata": {},
   "outputs": [],
   "source": [
    "%%dql \n",
    "SELECT \n",
    "    so.id\n",
    "    , so.name\n",
    "    , sp.track_id \n",
    "FROM \n",
    "    songs so \n",
    "    LEFT JOIN spotify sp ON so.id = sp.song_id \n",
    "ORDER BY so.id"
   ]
  },
  {
   "cell_type": "code",
   "execution_count": null,
   "metadata": {},
   "outputs": [],
   "source": [
    "%dql --close"
   ]
  }
 ],
 "metadata": {
  "kernelspec": {
   "display_name": ".venv",
   "language": "python",
   "name": "python3"
  },
  "language_info": {
   "codemirror_mode": {
    "name": "ipython",
    "version": 3
   },
   "file_extension": ".py",
   "mimetype": "text/x-python",
   "name": "python",
   "nbconvert_exporter": "python",
   "pygments_lexer": "ipython3",
   "version": "3.12.0"
  }
 },
 "nbformat": 4,
 "nbformat_minor": 2
}
