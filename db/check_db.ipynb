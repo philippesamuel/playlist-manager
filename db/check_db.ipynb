{
 "cells": [
  {
   "cell_type": "code",
   "execution_count": 1,
   "metadata": {},
   "outputs": [],
   "source": [
    "%load_ext magic_duckdb"
   ]
  },
  {
   "cell_type": "code",
   "execution_count": 7,
   "metadata": {},
   "outputs": [],
   "source": [
    "%dql -cn duck.db "
   ]
  },
  {
   "cell_type": "code",
   "execution_count": 8,
   "metadata": {},
   "outputs": [
    {
     "data": {
      "text/html": [
       "<div>\n",
       "<style scoped>\n",
       "    .dataframe tbody tr th:only-of-type {\n",
       "        vertical-align: middle;\n",
       "    }\n",
       "\n",
       "    .dataframe tbody tr th {\n",
       "        vertical-align: top;\n",
       "    }\n",
       "\n",
       "    .dataframe thead th {\n",
       "        text-align: right;\n",
       "    }\n",
       "</style>\n",
       "<table border=\"1\" class=\"dataframe\">\n",
       "  <thead>\n",
       "    <tr style=\"text-align: right;\">\n",
       "      <th></th>\n",
       "      <th>id</th>\n",
       "      <th>name</th>\n",
       "      <th>artists</th>\n",
       "    </tr>\n",
       "  </thead>\n",
       "  <tbody>\n",
       "    <tr>\n",
       "      <th>0</th>\n",
       "      <td>1</td>\n",
       "      <td>10000 Reasons</td>\n",
       "      <td>[Jonas Myrin, Matt Redman]</td>\n",
       "    </tr>\n",
       "    <tr>\n",
       "      <th>1</th>\n",
       "      <td>2</td>\n",
       "      <td>Agnus Dei</td>\n",
       "      <td>[Michael W. Smith]</td>\n",
       "    </tr>\n",
       "    <tr>\n",
       "      <th>2</th>\n",
       "      <td>3</td>\n",
       "      <td>Almighty (Ü)</td>\n",
       "      <td>[Anna Brading, Jotham Oakley, Simon Brading]</td>\n",
       "    </tr>\n",
       "    <tr>\n",
       "      <th>3</th>\n",
       "      <td>4</td>\n",
       "      <td>Alpha and Omega</td>\n",
       "      <td>[Erasmus Mutanbira]</td>\n",
       "    </tr>\n",
       "    <tr>\n",
       "      <th>4</th>\n",
       "      <td>5</td>\n",
       "      <td>Amazing Grace/My chains are gone (Ü)</td>\n",
       "      <td>[Chris Tomlin]</td>\n",
       "    </tr>\n",
       "    <tr>\n",
       "      <th>...</th>\n",
       "      <td>...</td>\n",
       "      <td>...</td>\n",
       "      <td>...</td>\n",
       "    </tr>\n",
       "    <tr>\n",
       "      <th>198</th>\n",
       "      <td>199</td>\n",
       "      <td>Yet Not I But Through Christ In Me</td>\n",
       "      <td>[Jonny Robinson, Michael Farren, Rich Thompson]</td>\n",
       "    </tr>\n",
       "    <tr>\n",
       "      <th>199</th>\n",
       "      <td>200</td>\n",
       "      <td>You Are Good</td>\n",
       "      <td>[Israel Houghton]</td>\n",
       "    </tr>\n",
       "    <tr>\n",
       "      <th>200</th>\n",
       "      <td>201</td>\n",
       "      <td>You Deserve It All</td>\n",
       "      <td>[Josh Baldwin, Joe Volk, Bobby Strand, Kalley...]</td>\n",
       "    </tr>\n",
       "    <tr>\n",
       "      <th>201</th>\n",
       "      <td>202</td>\n",
       "      <td>You're Worthy of My Praise</td>\n",
       "      <td>[David Ruis]</td>\n",
       "    </tr>\n",
       "    <tr>\n",
       "      <th>202</th>\n",
       "      <td>203</td>\n",
       "      <td>Zehntausend Gründe</td>\n",
       "      <td>[David Hanheiser, David Schnitter, Jonas Myrin...</td>\n",
       "    </tr>\n",
       "  </tbody>\n",
       "</table>\n",
       "<p>203 rows × 3 columns</p>\n",
       "</div>"
      ],
      "text/plain": [
       "      id                                  name  \\\n",
       "0      1                         10000 Reasons   \n",
       "1      2                             Agnus Dei   \n",
       "2      3                          Almighty (Ü)   \n",
       "3      4                       Alpha and Omega   \n",
       "4      5  Amazing Grace/My chains are gone (Ü)   \n",
       "..   ...                                   ...   \n",
       "198  199    Yet Not I But Through Christ In Me   \n",
       "199  200                          You Are Good   \n",
       "200  201                    You Deserve It All   \n",
       "201  202            You're Worthy of My Praise   \n",
       "202  203                    Zehntausend Gründe   \n",
       "\n",
       "                                               artists  \n",
       "0                           [Jonas Myrin, Matt Redman]  \n",
       "1                                   [Michael W. Smith]  \n",
       "2         [Anna Brading, Jotham Oakley, Simon Brading]  \n",
       "3                                  [Erasmus Mutanbira]  \n",
       "4                                       [Chris Tomlin]  \n",
       "..                                                 ...  \n",
       "198    [Jonny Robinson, Michael Farren, Rich Thompson]  \n",
       "199                                  [Israel Houghton]  \n",
       "200  [Josh Baldwin, Joe Volk, Bobby Strand, Kalley...]  \n",
       "201                                       [David Ruis]  \n",
       "202  [David Hanheiser, David Schnitter, Jonas Myrin...  \n",
       "\n",
       "[203 rows x 3 columns]"
      ]
     },
     "execution_count": 8,
     "metadata": {},
     "output_type": "execute_result"
    }
   ],
   "source": [
    "%dql SELECT * FROM songs"
   ]
  },
  {
   "cell_type": "code",
   "execution_count": 9,
   "metadata": {},
   "outputs": [
    {
     "data": {
      "text/html": [
       "<div>\n",
       "<style scoped>\n",
       "    .dataframe tbody tr th:only-of-type {\n",
       "        vertical-align: middle;\n",
       "    }\n",
       "\n",
       "    .dataframe tbody tr th {\n",
       "        vertical-align: top;\n",
       "    }\n",
       "\n",
       "    .dataframe thead th {\n",
       "        text-align: right;\n",
       "    }\n",
       "</style>\n",
       "<table border=\"1\" class=\"dataframe\">\n",
       "  <thead>\n",
       "    <tr style=\"text-align: right;\">\n",
       "      <th></th>\n",
       "      <th>id</th>\n",
       "      <th>song_id</th>\n",
       "      <th>track_id</th>\n",
       "    </tr>\n",
       "  </thead>\n",
       "  <tbody>\n",
       "  </tbody>\n",
       "</table>\n",
       "</div>"
      ],
      "text/plain": [
       "Empty DataFrame\n",
       "Columns: [id, song_id, track_id]\n",
       "Index: []"
      ]
     },
     "execution_count": 9,
     "metadata": {},
     "output_type": "execute_result"
    }
   ],
   "source": [
    "%dql SELECT * FROM spotify"
   ]
  },
  {
   "cell_type": "code",
   "execution_count": 6,
   "metadata": {},
   "outputs": [],
   "source": [
    "%dql --close"
   ]
  },
  {
   "cell_type": "code",
   "execution_count": null,
   "metadata": {},
   "outputs": [],
   "source": []
  }
 ],
 "metadata": {
  "kernelspec": {
   "display_name": ".venv",
   "language": "python",
   "name": "python3"
  },
  "language_info": {
   "codemirror_mode": {
    "name": "ipython",
    "version": 3
   },
   "file_extension": ".py",
   "mimetype": "text/x-python",
   "name": "python",
   "nbconvert_exporter": "python",
   "pygments_lexer": "ipython3",
   "version": "3.12.0"
  }
 },
 "nbformat": 4,
 "nbformat_minor": 2
}
